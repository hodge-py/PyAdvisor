{
 "cells": [
  {
   "metadata": {
    "ExecuteTime": {
     "end_time": "2025-02-21T07:13:26.228775Z",
     "start_time": "2025-02-21T07:13:26.219774Z"
    }
   },
   "cell_type": "code",
   "source": [
    "import pandas as pd\n",
    "import numpy as np\n",
    "import seaborn as sns\n",
    "import matplotlib.pyplot as plt\n",
    "import yfinance as yf\n",
    "import requests"
   ],
   "id": "10153384cefe4b8b",
   "outputs": [],
   "execution_count": 179
  },
  {
   "metadata": {},
   "cell_type": "markdown",
   "source": [
    "# Value Investing\n",
    "\n",
    "The ultimate goal is for our model to learn intrinsic value from independent variables and therefore predict if a stock ticker is under or over valued"
   ],
   "id": "16bbb82a8ef8db81"
  },
  {
   "metadata": {},
   "cell_type": "markdown",
   "source": "### Exploratory Analysis",
   "id": "e0063ff79c1bf066"
  },
  {
   "metadata": {
    "ExecuteTime": {
     "end_time": "2025-02-21T07:13:26.260773Z",
     "start_time": "2025-02-21T07:13:26.242776Z"
    }
   },
   "cell_type": "code",
   "source": [
    "df = pd.read_csv(\"stockTickers.csv\", header=None)\n",
    "df_num = df.to_numpy()\n",
    "for x in df_num:\n",
    "    print(x[0])"
   ],
   "id": "8e0fc49c625bd18d",
   "outputs": [
    {
     "name": "stdout",
     "output_type": "stream",
     "text": [
      "AAPL\n",
      "NVDA\n",
      "MSFT\n",
      "AMZN\n",
      "GOOGL\n",
      "GOOG\n",
      "META\n",
      "TSLA\n",
      "AVGO\n",
      "BRK.A\n",
      "BRK.B\n",
      "TSM\n",
      "WMT\n",
      "LLY\n",
      "JPM\n",
      "V\n",
      "MA\n",
      "UNH\n",
      "ORCL\n",
      "COST\n",
      "XOM\n",
      "NFLX\n",
      "HD\n",
      "PG\n",
      "JNJ\n",
      "BAC\n",
      "NVO\n",
      "ABBV\n",
      "SAP\n",
      "CRM\n",
      "ASML\n",
      "TMUS\n",
      "KO\n",
      "CVX\n",
      "BABA\n",
      "PLTR\n",
      "WFC\n",
      "CSCO\n",
      "ACN\n",
      "TM\n",
      "IBM\n",
      "AZN\n",
      "PM\n",
      "ABT\n",
      "GE\n",
      "MCD\n",
      "MS\n",
      "LIN\n",
      "GS\n",
      "AXP\n",
      "MRK\n",
      "NVS\n",
      "ISRG\n",
      "NOW\n",
      "TMO\n",
      "SHEL\n",
      "ADBE\n",
      "PEP\n",
      "DIS\n",
      "BX\n",
      "HSBC\n",
      "QCOM\n",
      "T\n",
      "AMD\n",
      "ARM\n",
      "VZ\n",
      "CAT\n",
      "UBER\n",
      "PDD\n",
      "RTX\n",
      "RY\n",
      "SPGI\n",
      "BKNG\n",
      "SHOP\n",
      "TXN\n",
      "INTU\n",
      "APP\n",
      "AMGN\n",
      "BSX\n",
      "C\n",
      "PGR\n",
      "BLK\n",
      "UNP\n",
      "HDB\n",
      "AMAT\n",
      "SCHW\n",
      "SYK\n",
      "MUFG\n",
      "DHR\n",
      "PFE\n",
      "LOW\n",
      "TJX\n",
      "NEE\n",
      "UL\n",
      "BA\n",
      "ANET\n",
      "TTE\n",
      "SNY\n",
      "SONY\n",
      "CMCSA\n",
      "HON\n",
      "PANW\n",
      "SPOT\n",
      "GILD\n",
      "BHP\n",
      "FI\n",
      "SBUX\n",
      "DE\n",
      "ADP\n",
      "KKR\n",
      "COP\n",
      "ETN\n",
      "VRTX\n",
      "MDT\n",
      "PLD\n",
      "BMY\n",
      "MMC\n",
      "CRWD\n",
      "NKE\n",
      "CB\n",
      "RIO\n",
      "LRCX\n",
      "MU\n",
      "UBS\n",
      "BUD\n",
      "TD\n",
      "MELI\n",
      "INTC\n",
      "ADI\n",
      "LMT\n",
      "GEV\n",
      "IBN\n",
      "KLAC\n",
      "ENB\n",
      "UPS\n",
      "CEG\n",
      "WELL\n",
      "ICE\n",
      "RELX\n",
      "SMFG\n",
      "MCO\n",
      "SO\n",
      "BAM\n",
      "WM\n",
      "BP\n",
      "MO\n",
      "BN\n",
      "ELV\n",
      "SHW\n",
      "SAN\n"
     ]
    }
   ],
   "execution_count": 180
  },
  {
   "metadata": {
    "ExecuteTime": {
     "end_time": "2025-02-21T07:14:12.947773Z",
     "start_time": "2025-02-21T07:13:26.293290Z"
    }
   },
   "cell_type": "code",
   "source": [
    "fairValue = []\n",
    "for x in df_num:\n",
    "    try:\n",
    "        data = yf.Ticker(x[0])\n",
    "        eps = abs((data.financials.loc[\"Basic EPS\"].iloc[0]/data.financials.loc[\"Basic EPS\"].iloc[1])-1)*100\n",
    "        if eps > 25:\n",
    "            eps = 25\n",
    "        elif eps < 5:\n",
    "            eps = 5\n",
    "        fairValue.append([x[0],eps*data.info['epsTrailingTwelveMonths']])\n",
    "    except:\n",
    "        fairValue.append([x[0],np.nan])\n",
    "\n",
    "print(fairValue)"
   ],
   "id": "89266c1fda2f9719",
   "outputs": [
    {
     "name": "stdout",
     "output_type": "stream",
     "text": [
      "[['AAPL', 31.45], ['NVDA', 63.24999999999999], ['MSFT', 273.0041152263374], ['AMZN', nan], ['GOOGL', nan], ['GOOG', 201.25000000000003], ['META', 596.5], ['TSLA', nan], ['AVGO', 32.0], ['BRK.A', nan], ['BRK.B', nan], ['TSM', 172.75], ['WMT', 60.5], ['LLY', 292.75], ['JPM', 430.0283076923075], ['V', 173.33534378769622], ['MA', nan], ['UNH', 185.27374054371452], ['ORCL', 86.78095238095234], ['COST', 288.9280677009874], ['XOM', 92.5984251968505], ['NFLX', 495.5], ['HD', 139.2174432497012], ['PG', 31.400000000000002], ['JNJ', 144.75], ['BAC', 16.05], ['NVO', 68.13069094804499], ['ABBV', 26.837773992674002], ['SAP', 69.25], ['CRM', 151.75], ['ASML', 502.75], ['TMUS', nan], ['KO', 31.30909090909089], ['CVX', 243.00000000000003], ['BABA', 68.82658959537575], ['PLTR', nan], ['WFC', 134.25], ['CSCO', 39.233766233766254], ['ACN', 73.39266055045861], ['TM', 630.25], ['IBM', 160.5], ['AZN', nan], ['PM', 58.66334661354576], ['ABT', 131.9866129862656], ['GE', 152.0], ['MCD', 284.5], ['MS', 126.33226324237563], ['LIN', 329.25], ['GS', 982.666666666667], ['AXP', nan], ['MRK', 168.5], ['NVS', 100.98041958041958], ['ISRG', nan], ['NOW', 125.27830188679245], ['TMO', 207.42140845070423], ['SHEL', 126.49999999999999], ['ADBE', 61.7], ['PEP', nan], ['DIS', 77.0], ['BX', 79.76271186440678], ['HSBC', 53.91304347826083], ['QCOM', 231.75], ['T', 36.304568527918775], ['AMD', 25.0], ['ARM', 19.0], ['VZ', nan], ['CAT', 210.35474308300434], ['UBER', 113.99999999999999], ['PDD', 253.25000000000003], ['RTX', 88.75], ['RY', 72.16069699903197], ['SPGI', 309.25], ['BKNG', 3692.4999999999995], ['SHOP', 38.5], ['TXN', nan], ['INTU', 253.55712603062426], ['APP', 113.75], ['AMGN', nan], ['BSX', 20.833333333333314], ['C', 148.75], ['PGR', 360.0], ['BLK', 311.0778198775864], ['UNP', 66.73065902578783], ['HDB', 15.45], ['AMAT', 48.81372549019608], ['SCHW', 74.75], ['SYK', nan], ['MUFG', 27.500000000000004], ['DHR', 132.25], ['PFE', 35.25], ['LOW', 300.25], ['TJX', 106.25], ['NEE', 21.77318725761775], ['UL', 33.6], ['BA', -458.75000000000006], ['ANET', 55.75], ['TTE', 68.50695322376747], ['SNY', 11.5], ['SONY', 6.15], ['CMCSA', nan], ['HON', 43.550000000000004], ['PANW', 44.0], ['SPOT', 144.5], ['GILD', 9.136612021857927], ['BHP', nan], ['FI', 129.40261133755976], ['SBUX', 24.287380555555558], ['DE', nan], ['ADP', 103.34787878787881], ['KKR', 82.0], ['COP', nan], ['ETN', 174.44168734491288], ['VRTX', -52.0], ['MDT', 16.4], ['PLD', nan], ['BMY', nan], ['MMC', 71.0368421052631], ['CRWD', 12.5], ['NKE', 48.55045871559631], ['CB', 562.75], ['RIO', 104.17507657585034], ['LRCX', 41.19909909909912], ['MU', 87.25], ['UBS', 38.0], ['BUD', 34.4781144781145], ['TD', 48.17359855334538], ['MELI', 705.75], ['INTC', nan], ['ADI', 78.5], ['LMT', 424.22423146473756], ['GEV', 139.75], ['IBN', 39.5], ['KLAC', 379.03047775947283], ['ENB', 29.049295774647884], ['UPS', 90.74903969270166], ['CEG', 297.5], ['WELL', 40.0], ['ICE', nan], ['RELX', 13.579812206572758], ['SMFG', 29.9764251600447], ['MCO', 281.75], ['SO', 47.08536585365858], ['BAM', 33.25], ['WM', 137.6362038664323], ['BP', 3.5000000000000004], ['MO', 163.5], ['BN', 7.75], ['ELV', 128.5], ['SHW', 204.99616858237542], ['SAN', nan]]\n"
     ]
    }
   ],
   "execution_count": 181
  },
  {
   "metadata": {
    "ExecuteTime": {
     "end_time": "2025-02-21T07:14:12.993780Z",
     "start_time": "2025-02-21T07:14:12.980773Z"
    }
   },
   "cell_type": "code",
   "source": [
    "fairValue = pd.DataFrame(fairValue)\n",
    "print(fairValue)\n",
    "fairValueTickerless = fairValue.drop(fairValue.columns[0],axis=1)\n",
    "dfNew = pd.concat([df,fairValueTickerless],axis=1)\n",
    "df_clean = dfNew.dropna()\n",
    "print(df_clean)"
   ],
   "id": "55f0a31d42e9dfee",
   "outputs": [
    {
     "name": "stdout",
     "output_type": "stream",
     "text": [
      "         0           1\n",
      "0     AAPL   31.450000\n",
      "1     NVDA   63.250000\n",
      "2     MSFT  273.004115\n",
      "3     AMZN         NaN\n",
      "4    GOOGL         NaN\n",
      "..     ...         ...\n",
      "145     MO  163.500000\n",
      "146     BN    7.750000\n",
      "147    ELV  128.500000\n",
      "148    SHW  204.996169\n",
      "149    SAN         NaN\n",
      "\n",
      "[150 rows x 2 columns]\n",
      "        0           1\n",
      "0    AAPL   31.450000\n",
      "1    NVDA   63.250000\n",
      "2    MSFT  273.004115\n",
      "5    GOOG  201.250000\n",
      "6    META  596.500000\n",
      "..    ...         ...\n",
      "144    BP    3.500000\n",
      "145    MO  163.500000\n",
      "146    BN    7.750000\n",
      "147   ELV  128.500000\n",
      "148   SHW  204.996169\n",
      "\n",
      "[125 rows x 2 columns]\n"
     ]
    }
   ],
   "execution_count": 182
  },
  {
   "metadata": {
    "ExecuteTime": {
     "end_time": "2025-02-21T07:14:13.069886Z",
     "start_time": "2025-02-21T07:14:13.055887Z"
    }
   },
   "cell_type": "code",
   "source": [
    "df_clean2 = df_clean[df_clean.iloc[:,1] > 1]\n",
    "df_clean2 = df_clean2[df_clean2.iloc[:,1] < 600]\n",
    "df_clean2.columns = ['Ticker', 'FairValue']\n",
    "df_clean2.head(100)"
   ],
   "id": "7ad319635088fa19",
   "outputs": [
    {
     "data": {
      "text/plain": [
       "    Ticker   FairValue\n",
       "0     AAPL   31.450000\n",
       "1     NVDA   63.250000\n",
       "2     MSFT  273.004115\n",
       "5     GOOG  201.250000\n",
       "6     META  596.500000\n",
       "..     ...         ...\n",
       "122     MU   87.250000\n",
       "123    UBS   38.000000\n",
       "124    BUD   34.478114\n",
       "125     TD   48.173599\n",
       "128    ADI   78.500000\n",
       "\n",
       "[100 rows x 2 columns]"
      ],
      "text/html": [
       "<div>\n",
       "<style scoped>\n",
       "    .dataframe tbody tr th:only-of-type {\n",
       "        vertical-align: middle;\n",
       "    }\n",
       "\n",
       "    .dataframe tbody tr th {\n",
       "        vertical-align: top;\n",
       "    }\n",
       "\n",
       "    .dataframe thead th {\n",
       "        text-align: right;\n",
       "    }\n",
       "</style>\n",
       "<table border=\"1\" class=\"dataframe\">\n",
       "  <thead>\n",
       "    <tr style=\"text-align: right;\">\n",
       "      <th></th>\n",
       "      <th>Ticker</th>\n",
       "      <th>FairValue</th>\n",
       "    </tr>\n",
       "  </thead>\n",
       "  <tbody>\n",
       "    <tr>\n",
       "      <th>0</th>\n",
       "      <td>AAPL</td>\n",
       "      <td>31.450000</td>\n",
       "    </tr>\n",
       "    <tr>\n",
       "      <th>1</th>\n",
       "      <td>NVDA</td>\n",
       "      <td>63.250000</td>\n",
       "    </tr>\n",
       "    <tr>\n",
       "      <th>2</th>\n",
       "      <td>MSFT</td>\n",
       "      <td>273.004115</td>\n",
       "    </tr>\n",
       "    <tr>\n",
       "      <th>5</th>\n",
       "      <td>GOOG</td>\n",
       "      <td>201.250000</td>\n",
       "    </tr>\n",
       "    <tr>\n",
       "      <th>6</th>\n",
       "      <td>META</td>\n",
       "      <td>596.500000</td>\n",
       "    </tr>\n",
       "    <tr>\n",
       "      <th>...</th>\n",
       "      <td>...</td>\n",
       "      <td>...</td>\n",
       "    </tr>\n",
       "    <tr>\n",
       "      <th>122</th>\n",
       "      <td>MU</td>\n",
       "      <td>87.250000</td>\n",
       "    </tr>\n",
       "    <tr>\n",
       "      <th>123</th>\n",
       "      <td>UBS</td>\n",
       "      <td>38.000000</td>\n",
       "    </tr>\n",
       "    <tr>\n",
       "      <th>124</th>\n",
       "      <td>BUD</td>\n",
       "      <td>34.478114</td>\n",
       "    </tr>\n",
       "    <tr>\n",
       "      <th>125</th>\n",
       "      <td>TD</td>\n",
       "      <td>48.173599</td>\n",
       "    </tr>\n",
       "    <tr>\n",
       "      <th>128</th>\n",
       "      <td>ADI</td>\n",
       "      <td>78.500000</td>\n",
       "    </tr>\n",
       "  </tbody>\n",
       "</table>\n",
       "<p>100 rows × 2 columns</p>\n",
       "</div>"
      ]
     },
     "execution_count": 183,
     "metadata": {},
     "output_type": "execute_result"
    }
   ],
   "execution_count": 183
  },
  {
   "metadata": {
    "ExecuteTime": {
     "end_time": "2025-02-21T07:14:31.185606Z",
     "start_time": "2025-02-21T07:14:13.117399Z"
    }
   },
   "cell_type": "code",
   "source": [
    "independentV = []\n",
    "for index, row in df_clean2.iterrows():\n",
    "    data2 = yf.Ticker(row['Ticker'])\n",
    "    infos = data2.info\n",
    "    try:\n",
    "        PE = infos['trailingPE']\n",
    "        if PE > 50:\n",
    "            PE = np.nan\n",
    "    except:\n",
    "        PE = np.nan\n",
    "    try:\n",
    "        PB = infos['priceToBook']\n",
    "        if PB > 50:\n",
    "            PB = np.nan\n",
    "    except:\n",
    "        PB = np.nan\n",
    "\n",
    "    independentV.append([PE,PB])\n",
    "\n",
    "print(independentV)"
   ],
   "id": "60dd433b7c3c21d0",
   "outputs": [
    {
     "name": "stdout",
     "output_type": "stream",
     "text": [
      "[[39.082672, nan], [nan, nan], [33.558872, 10.221311], [23.185093, 7.010743], [29.121542, 9.640514], [nan, 3.8287094], [28.958033, 1.2098237], [40.16942, 8.863864], [nan, nan], [13.515704, 2.298692], [35.367306, 18.325315], [32.456074, 4.7395434], [43.137257, 35.801464], [nan, 18.788786], [14.285714, 1.8487949], [nan, 17.711817], [26.755255, nan], [26.625797, 7.782639], [27.578583, 5.3760686], [14.112149, 1.2656813], [26.333332, 2.5918477], [nan, nan], [nan, 7.381807], [nan, 5.2014894], [36.951267, 15.817493], [28.471544, 12.121841], [16.336418, 1.8268733], [27.977365, 0.33175552], [14.642458, 1.6111383], [28.364035, 5.6490216], [32.231155, 8.240156], [41.23676, 8.977585], [25.219635, -20.056902], [17.430628, 5.8041315], [34.332237, 11.587654], [26.63005, -57.439346], [16.898113, 2.3064244], [35.072132, 5.768126], [13.008903, 4.9886208], [18.28109, 4.8118916], [nan, 20.80067], [32.576015, 4.146244], [13.513834, 2.3451538], [36.84684, 14.216171], [35.89286, 1.9629952], [45.27624, 15.342133], [9.02742, 6.0449295], [18.737864, 7.143151], [17.550335, 1.7978686], [nan, 3.2167811], [nan, 24.770115], [15.82729, 8.561375], [17.820177, 7.9456344], [12.2813425, 0.61909384], [35.242252, 2.7704947], [15.089534, 1.4337064], [43.284557, 4.9701567], [nan, 13.829525], [nan, 8.944288], [nan, nan], [nan, 7.1362777], [13.6705885, 0.8004487], [18.588196, 6.129239], [23.545454, 3.5548675], [22.330929, 8.859831], [19.281555, 0.09064409], [22.977806, 7.692408], [27.367893, 3.9373527], [11.836364, 0.0074104643], [39.31002, 3.0183172], [18.368795, 1.5901277], [20.5179, -10.375579], [28.936472, 16.91842], [20.813057, 2.8797832], [23.141666, 6.878019], [46.367714, 13.048965], [9.210762, 1.1754159], [23.534784, 0.87549335], [20.260162, 0.018343788], [24.265213, 7.1787643], [nan, 20.593536], [nan, 23.493582], [nan, 7.123527], [43.493507, 4.948808], [36.56129, -17.23016], [32.56472, 24.997597], [41.021343, 4.9579926], [32.50737, 6.582964], [26.810976, 2.285046], [28.187042, 8.492137], [nan, 35.130085], [23.83642, 8.153505], [11.8831625, 1.6742086], [9.093352, 1.889382], [27.05775, 12.986141], [29.56447, 2.456199], [22.052631, 1.2508396], [16.609375, 1.3348905], [18.126127, 0.95196044], [nan, 3.4481688], [19.564575, 16.18947], [nan, 10.394774], [18.101265, 0.06894324], [32.701008, 28.840633], [25.442425, 1.5475357], [17.274075, 5.956273], [26.001682, 7.355934], [nan, 2.9883506], [38.776924, 26.871002], [11.840909, 0.0040296116], [45.396626, 25.875986], [20.470863, 2.8897665], [45.338345, 7.7766314], [33.644638, 11.525151], [nan, 9.289545], [8.30734, -41.127934], [nan, 2.1623082], [15.194552, 2.18431], [33.145832, 21.582191]]\n"
     ]
    }
   ],
   "execution_count": 184
  },
  {
   "metadata": {
    "ExecuteTime": {
     "end_time": "2025-02-21T07:14:31.248610Z",
     "start_time": "2025-02-21T07:14:31.234612Z"
    }
   },
   "cell_type": "code",
   "source": [
    "valueDf = pd.DataFrame(independentV)\n",
    "valueDf.columns = ['P/E','P/B']\n",
    "final_df = pd.concat([df_clean2,valueDf],axis=1)\n",
    "final_df2 = final_df.dropna()\n",
    "final_df2.head(100)"
   ],
   "id": "148c10f184ce098b",
   "outputs": [
    {
     "data": {
      "text/plain": [
       "    Ticker   FairValue        P/E        P/B\n",
       "2     MSFT  273.004115  33.558872  10.221311\n",
       "6     META  596.500000  28.958033   1.209824\n",
       "11     TSM  172.750000  32.456074   4.739543\n",
       "12     WMT   60.500000  43.137257  35.801464\n",
       "14     JPM  430.028308  14.285714   1.848795\n",
       "..     ...         ...        ...        ...\n",
       "109    KKR   82.000000  11.840909   0.004030\n",
       "111    ETN  174.441687  20.470863   2.889766\n",
       "113    MDT   16.400000  33.644638  11.525151\n",
       "117   CRWD   12.500000  15.194552   2.184310\n",
       "118    NKE   48.550459  33.145832  21.582191\n",
       "\n",
       "[72 rows x 4 columns]"
      ],
      "text/html": [
       "<div>\n",
       "<style scoped>\n",
       "    .dataframe tbody tr th:only-of-type {\n",
       "        vertical-align: middle;\n",
       "    }\n",
       "\n",
       "    .dataframe tbody tr th {\n",
       "        vertical-align: top;\n",
       "    }\n",
       "\n",
       "    .dataframe thead th {\n",
       "        text-align: right;\n",
       "    }\n",
       "</style>\n",
       "<table border=\"1\" class=\"dataframe\">\n",
       "  <thead>\n",
       "    <tr style=\"text-align: right;\">\n",
       "      <th></th>\n",
       "      <th>Ticker</th>\n",
       "      <th>FairValue</th>\n",
       "      <th>P/E</th>\n",
       "      <th>P/B</th>\n",
       "    </tr>\n",
       "  </thead>\n",
       "  <tbody>\n",
       "    <tr>\n",
       "      <th>2</th>\n",
       "      <td>MSFT</td>\n",
       "      <td>273.004115</td>\n",
       "      <td>33.558872</td>\n",
       "      <td>10.221311</td>\n",
       "    </tr>\n",
       "    <tr>\n",
       "      <th>6</th>\n",
       "      <td>META</td>\n",
       "      <td>596.500000</td>\n",
       "      <td>28.958033</td>\n",
       "      <td>1.209824</td>\n",
       "    </tr>\n",
       "    <tr>\n",
       "      <th>11</th>\n",
       "      <td>TSM</td>\n",
       "      <td>172.750000</td>\n",
       "      <td>32.456074</td>\n",
       "      <td>4.739543</td>\n",
       "    </tr>\n",
       "    <tr>\n",
       "      <th>12</th>\n",
       "      <td>WMT</td>\n",
       "      <td>60.500000</td>\n",
       "      <td>43.137257</td>\n",
       "      <td>35.801464</td>\n",
       "    </tr>\n",
       "    <tr>\n",
       "      <th>14</th>\n",
       "      <td>JPM</td>\n",
       "      <td>430.028308</td>\n",
       "      <td>14.285714</td>\n",
       "      <td>1.848795</td>\n",
       "    </tr>\n",
       "    <tr>\n",
       "      <th>...</th>\n",
       "      <td>...</td>\n",
       "      <td>...</td>\n",
       "      <td>...</td>\n",
       "      <td>...</td>\n",
       "    </tr>\n",
       "    <tr>\n",
       "      <th>109</th>\n",
       "      <td>KKR</td>\n",
       "      <td>82.000000</td>\n",
       "      <td>11.840909</td>\n",
       "      <td>0.004030</td>\n",
       "    </tr>\n",
       "    <tr>\n",
       "      <th>111</th>\n",
       "      <td>ETN</td>\n",
       "      <td>174.441687</td>\n",
       "      <td>20.470863</td>\n",
       "      <td>2.889766</td>\n",
       "    </tr>\n",
       "    <tr>\n",
       "      <th>113</th>\n",
       "      <td>MDT</td>\n",
       "      <td>16.400000</td>\n",
       "      <td>33.644638</td>\n",
       "      <td>11.525151</td>\n",
       "    </tr>\n",
       "    <tr>\n",
       "      <th>117</th>\n",
       "      <td>CRWD</td>\n",
       "      <td>12.500000</td>\n",
       "      <td>15.194552</td>\n",
       "      <td>2.184310</td>\n",
       "    </tr>\n",
       "    <tr>\n",
       "      <th>118</th>\n",
       "      <td>NKE</td>\n",
       "      <td>48.550459</td>\n",
       "      <td>33.145832</td>\n",
       "      <td>21.582191</td>\n",
       "    </tr>\n",
       "  </tbody>\n",
       "</table>\n",
       "<p>72 rows × 4 columns</p>\n",
       "</div>"
      ]
     },
     "execution_count": 185,
     "metadata": {},
     "output_type": "execute_result"
    }
   ],
   "execution_count": 185
  },
  {
   "metadata": {
    "ExecuteTime": {
     "end_time": "2025-02-21T07:14:31.308750Z",
     "start_time": "2025-02-21T07:14:31.295748Z"
    }
   },
   "cell_type": "code",
   "source": [
    "from sklearn import linear_model\n",
    "from sklearn.model_selection import train_test_split\n",
    "X = final_df2[['P/E','P/B']]\n",
    "y = final_df2['FairValue']\n",
    "X_train, X_test, y_train, y_test = train_test_split(X, y, test_size=0.2, random_state=42)\n",
    "\n",
    "clf = linear_model.Lasso(alpha=0.01)\n",
    "clf.fit(X_train, y_train)\n",
    "y_pred = clf.predict(X_test)\n",
    "print(y_pred)\n"
   ],
   "id": "c8c82c1773f7af35",
   "outputs": [
    {
     "name": "stdout",
     "output_type": "stream",
     "text": [
      "[111.74502355 118.02672625 122.30346375 123.06086583 105.54522037\n",
      " 104.59625334 115.24100634 111.43596008 128.56058649 114.81790632\n",
      " 116.43471987 113.11556682 120.20565572 106.96501212 118.31637617]\n"
     ]
    }
   ],
   "execution_count": 186
  },
  {
   "metadata": {
    "ExecuteTime": {
     "end_time": "2025-02-21T07:14:31.447269Z",
     "start_time": "2025-02-21T07:14:31.356267Z"
    }
   },
   "cell_type": "code",
   "source": [
    "plt.scatter(final_df2['P/E'], final_df2['FairValue'])\n",
    "plt.show()"
   ],
   "id": "52b823efca7af28b",
   "outputs": [
    {
     "data": {
      "text/plain": [
       "<Figure size 640x480 with 1 Axes>"
      ],
      "image/png": "[encoded data removed]"
     },
     "metadata": {},
     "output_type": "display_data"
    }
   ],
   "execution_count": 187
  },
  {
   "metadata": {
    "ExecuteTime": {
     "end_time": "2025-02-21T07:17:07.794089Z",
     "start_time": "2025-02-21T07:17:07.785093Z"
    }
   },
   "cell_type": "code",
   "source": [
    "pred2 = clf.predict([[14.33,1.29]])\n",
    "print(pred2)"
   ],
   "id": "3c2652cb15649aaa",
   "outputs": [
    {
     "name": "stdout",
     "output_type": "stream",
     "text": [
      "[112.45064496]\n"
     ]
    },
    {
     "name": "stderr",
     "output_type": "stream",
     "text": [
      "C:\\Users\\khodg\\OneDrive\\Documents\\Github\\pyTrader\\venv\\lib\\site-packages\\sklearn\\utils\\validation.py:2739: UserWarning: X does not have valid feature names, but Lasso was fitted with feature names\n",
      "  warnings.warn(\n"
     ]
    }
   ],
   "execution_count": 191
  },
  {
   "metadata": {
    "ExecuteTime": {
     "end_time": "2025-02-21T07:14:31.508788Z",
     "start_time": "2025-02-21T07:14:31.496788Z"
    }
   },
   "cell_type": "code",
   "source": "",
   "id": "d0d46f96efcd76a7",
   "outputs": [],
   "execution_count": null
  }
 ],
 "metadata": {
  "kernelspec": {
   "name": "python3",
   "language": "python",
   "display_name": "Python 3 (ipykernel)"
  }
 },
 "nbformat": 5,
 "nbformat_minor": 9
}
