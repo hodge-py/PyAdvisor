{
 "cells": [
  {
   "cell_type": "code",
   "id": "initial_id",
   "metadata": {
    "collapsed": true,
    "ExecuteTime": {
     "end_time": "2025-02-13T19:04:05.562849Z",
     "start_time": "2025-02-13T19:03:55.696246Z"
    }
   },
   "source": [
    "import pandas as pd\n",
    "import numpy as np\n",
    "import matplotlib.pyplot as plt\n",
    "import yfinance as yf\n",
    "from sklearn.cluster import KMeans"
   ],
   "outputs": [],
   "execution_count": 1
  },
  {
   "metadata": {
    "ExecuteTime": {
     "end_time": "2025-02-13T19:04:09.473512Z",
     "start_time": "2025-02-13T19:04:05.589849Z"
    }
   },
   "cell_type": "code",
   "source": [
    "testArr = ['GE','CAT','RTX','UNP','HON','BA','DE','ETN','LMT','UPS','RELX','PH','WM','MMM','TT','CTAS','ITW','TRI', 'TDG','CP','EMR','NOC','GD','RSG','CNI','FDX','CSX','CARR','PCAR','NSC','CPRT','GWW','JCI','HWM','AXON']\n",
    "masterArr = []\n",
    "names = []\n",
    "for x in testArr:\n",
    "    data = yf.Ticker(x)\n",
    "    try:\n",
    "        masterArr.append([data.info['beta'],data.info['trailingPE']])\n",
    "        names.append(x)\n",
    "    except:\n",
    "        masterArr.append([np.nan,np.nan])\n",
    "masterArr = np.array(masterArr)\n",
    "print(masterArr)"
   ],
   "id": "b79903c92af5db7d",
   "outputs": [
    {
     "name": "stdout",
     "output_type": "stream",
     "text": [
      "[[  1.188     34.15625 ]\n",
      " [  1.095     16.119328]\n",
      " [  0.54      35.89014 ]\n",
      " [  1.056     22.605597]\n",
      " [  1.025     23.712973]\n",
      " [       nan        nan]\n",
      " [  0.935     18.350235]\n",
      " [  1.01      32.112514]\n",
      " [  0.481     19.902786]\n",
      " [  0.982     17.113333]\n",
      " [  0.478     41.669353]\n",
      " [  1.432     28.504955]\n",
      " [  0.747     33.47059 ]\n",
      " [  1.001     20.449036]\n",
      " [  1.221     31.722712]\n",
      " [  1.313     49.454216]\n",
      " [  1.109     22.208548]\n",
      " [  0.394     36.741238]\n",
      " [  1.423     47.8216  ]\n",
      " [  0.789     27.892473]\n",
      " [  1.292     35.07465 ]\n",
      " [  0.346     16.706348]\n",
      " [  0.614     18.427681]\n",
      " [  0.707     35.67412 ]\n",
      " [  0.648     20.908352]\n",
      " [  1.177     16.79297 ]\n",
      " [  1.191     18.463688]\n",
      " [  1.212     52.26229 ]\n",
      " [  0.89      13.276583]\n",
      " [  1.302     22.176598]\n",
      " [  1.271     41.685318]\n",
      " [  1.151     26.45689 ]\n",
      " [  1.306     41.408447]\n",
      " [  1.293     48.79423 ]\n",
      " [  0.943    171.48198 ]]\n"
     ]
    }
   ],
   "execution_count": 2
  },
  {
   "metadata": {
    "ExecuteTime": {
     "end_time": "2025-02-13T19:04:09.966342Z",
     "start_time": "2025-02-13T19:04:09.952343Z"
    }
   },
   "cell_type": "code",
   "source": "masterArr = masterArr[~np.isnan(masterArr)]",
   "id": "ccaf1847af2e2be3",
   "outputs": [],
   "execution_count": 3
  },
  {
   "metadata": {
    "ExecuteTime": {
     "end_time": "2025-02-13T19:04:10.027345Z",
     "start_time": "2025-02-13T19:04:10.017345Z"
    }
   },
   "cell_type": "code",
   "source": [
    "masterArr = masterArr.reshape(-1,2)\n",
    "print(masterArr)"
   ],
   "id": "ad7d2078f2ac9bb9",
   "outputs": [
    {
     "name": "stdout",
     "output_type": "stream",
     "text": [
      "[[  1.188     34.15625 ]\n",
      " [  1.095     16.119328]\n",
      " [  0.54      35.89014 ]\n",
      " [  1.056     22.605597]\n",
      " [  1.025     23.712973]\n",
      " [  0.935     18.350235]\n",
      " [  1.01      32.112514]\n",
      " [  0.481     19.902786]\n",
      " [  0.982     17.113333]\n",
      " [  0.478     41.669353]\n",
      " [  1.432     28.504955]\n",
      " [  0.747     33.47059 ]\n",
      " [  1.001     20.449036]\n",
      " [  1.221     31.722712]\n",
      " [  1.313     49.454216]\n",
      " [  1.109     22.208548]\n",
      " [  0.394     36.741238]\n",
      " [  1.423     47.8216  ]\n",
      " [  0.789     27.892473]\n",
      " [  1.292     35.07465 ]\n",
      " [  0.346     16.706348]\n",
      " [  0.614     18.427681]\n",
      " [  0.707     35.67412 ]\n",
      " [  0.648     20.908352]\n",
      " [  1.177     16.79297 ]\n",
      " [  1.191     18.463688]\n",
      " [  1.212     52.26229 ]\n",
      " [  0.89      13.276583]\n",
      " [  1.302     22.176598]\n",
      " [  1.271     41.685318]\n",
      " [  1.151     26.45689 ]\n",
      " [  1.306     41.408447]\n",
      " [  1.293     48.79423 ]\n",
      " [  0.943    171.48198 ]]\n"
     ]
    }
   ],
   "execution_count": 4
  },
  {
   "metadata": {
    "ExecuteTime": {
     "end_time": "2025-02-13T19:04:16.245016Z",
     "start_time": "2025-02-13T19:04:16.048017Z"
    }
   },
   "cell_type": "code",
   "source": "kmeans = KMeans(n_clusters=5).fit_predict(masterArr[:,:2])\n",
   "id": "b055e4b03258398e",
   "outputs": [],
   "execution_count": 5
  },
  {
   "metadata": {
    "ExecuteTime": {
     "end_time": "2025-02-13T19:04:16.507018Z",
     "start_time": "2025-02-13T19:04:16.284017Z"
    }
   },
   "cell_type": "code",
   "source": [
    "plt.scatter(masterArr[:,0], masterArr[:,1], c=kmeans)\n",
    "plt.xlabel('P/B')\n",
    "plt.ylabel('P/E')\n",
    "plt.show()"
   ],
   "id": "6566f613109359ca",
   "outputs": [
    {
     "data": {
      "text/plain": [
       "<Figure size 640x480 with 1 Axes>"
      ],
      "image/png": "[encoded data removed]"
     },
     "metadata": {},
     "output_type": "display_data"
    }
   ],
   "execution_count": 6
  },
  {
   "metadata": {
    "ExecuteTime": {
     "end_time": "2025-02-13T07:44:59.115073Z",
     "start_time": "2025-02-13T07:44:59.103075Z"
    }
   },
   "cell_type": "code",
   "source": "print(masterArr,names)",
   "id": "da88641fd86fa2fa",
   "outputs": [
    {
     "name": "stdout",
     "output_type": "stream",
     "text": [
      "[[ 12.021332   34.480263 ]\n",
      " [  8.762445   15.972776 ]\n",
      " [  2.761189   35.712677 ]\n",
      " [  9.094602   22.4287   ]\n",
      " [  7.6587715  23.537313 ]\n",
      " [  5.653747   18.586584 ]\n",
      " [  6.406053   32.58465  ]\n",
      " [ 14.4870205  19.801523 ]\n",
      " [  5.7818036  16.927408 ]\n",
      " [ 29.837587   41.483868 ]\n",
      " [  7.227306   28.010735 ]\n",
      " [ 11.438632   33.441174 ]\n",
      " [ 17.464804   20.505508 ]\n",
      " [ 10.728567   31.83627  ]\n",
      " [ 19.199589   49.30361  ]\n",
      " [ 22.29818    21.884615 ]\n",
      " [  6.6648984  36.26392  ]\n",
      " [  1.6461585  27.90681  ]\n",
      " [  3.2810647  35.070423 ]\n",
      " [  4.655389   16.608818 ]\n",
      " [  3.003394   18.45301  ]\n",
      " [  6.236049   35.702873 ]\n",
      " [  3.3165293  20.90224  ]\n",
      " [  2.3263743  16.782747 ]\n",
      " [  4.9097686  18.39106  ]\n",
      " [  3.8861055  52.131145 ]\n",
      " [  2.8963485  13.051899 ]\n",
      " [  4.167173   21.926598 ]\n",
      " [  7.554076   41.272728 ]\n",
      " [ 14.287602   26.524265 ]\n",
      " [  3.6793816  41.79812  ]\n",
      " [ 11.724484   49.265385 ]\n",
      " [ 24.097975  172.30052  ]] ['GE', 'CAT', 'RTX', 'UNP', 'HON', 'DE', 'ETN', 'LMT', 'UPS', 'RELX', 'PH', 'WM', 'MMM', 'TT', 'CTAS', 'ITW', 'TRI', 'CP', 'EMR', 'NOC', 'GD', 'RSG', 'CNI', 'FDX', 'CSX', 'CARR', 'PCAR', 'NSC', 'CPRT', 'GWW', 'JCI', 'HWM', 'AXON']\n"
     ]
    }
   ],
   "execution_count": 81
  },
  {
   "metadata": {},
   "cell_type": "code",
   "outputs": [],
   "execution_count": null,
   "source": "",
   "id": "1c8d28d927bbade8"
  }
 ],
 "metadata": {
  "kernelspec": {
   "display_name": "Python 3",
   "language": "python",
   "name": "python3"
  },
  "language_info": {
   "codemirror_mode": {
    "name": "ipython",
    "version": 2
   },
   "file_extension": ".py",
   "mimetype": "text/x-python",
   "name": "python",
   "nbconvert_exporter": "python",
   "pygments_lexer": "ipython2",
   "version": "2.7.6"
  }
 },
 "nbformat": 4,
 "nbformat_minor": 5
}
