{
 "cells": [
  {
   "cell_type": "code",
   "id": "initial_id",
   "metadata": {
    "collapsed": true,
    "ExecuteTime": {
     "end_time": "2025-02-13T07:40:04.227335Z",
     "start_time": "2025-02-13T07:40:04.213724Z"
    }
   },
   "source": [
    "import pandas as pd\n",
    "import numpy as np\n",
    "import matplotlib.pyplot as plt\n",
    "import yfinance as yf\n",
    "from sklearn.cluster import KMeans"
   ],
   "outputs": [],
   "execution_count": 62
  },
  {
   "metadata": {
    "ExecuteTime": {
     "end_time": "2025-02-13T07:44:07.540743Z",
     "start_time": "2025-02-13T07:44:05.186466Z"
    }
   },
   "cell_type": "code",
   "source": [
    "testArr = ['GE','CAT','RTX','UNP','HON','BA','DE','ETN','LMT','UPS','RELX','PH','WM','MMM','TT','CTAS','ITW','TRI', 'TDG','CP','EMR','NOC','GD','RSG','CNI','FDX','CSX','CARR','PCAR','NSC','CPRT','GWW','JCI','HWM','AXON']\n",
    "masterArr = []\n",
    "names = []\n",
    "for x in testArr:\n",
    "    data = yf.Ticker(x)\n",
    "    try:\n",
    "        masterArr.append([data.info['priceToBook'],data.info['trailingPE']])\n",
    "        names.append(x)\n",
    "    except:\n",
    "        masterArr.append([np.nan,np.nan])\n",
    "masterArr = np.array(masterArr)\n",
    "print(masterArr)"
   ],
   "id": "b79903c92af5db7d",
   "outputs": [
    {
     "name": "stdout",
     "output_type": "stream",
     "text": [
      "[[ 12.021332   34.480263 ]\n",
      " [  8.762445   15.972776 ]\n",
      " [  2.761189   35.712677 ]\n",
      " [  9.094602   22.4287   ]\n",
      " [  7.6587715  23.537313 ]\n",
      " [        nan         nan]\n",
      " [  5.653747   18.586584 ]\n",
      " [  6.406053   32.58465  ]\n",
      " [ 14.4870205  19.801523 ]\n",
      " [  5.7818036  16.927408 ]\n",
      " [ 29.837587   41.483868 ]\n",
      " [  7.227306   28.010735 ]\n",
      " [ 11.438632   33.441174 ]\n",
      " [ 17.464804   20.505508 ]\n",
      " [ 10.728567   31.83627  ]\n",
      " [ 19.199589   49.30361  ]\n",
      " [ 22.29818    21.884615 ]\n",
      " [  6.6648984  36.26392  ]\n",
      " [        nan         nan]\n",
      " [  1.6461585  27.90681  ]\n",
      " [  3.2810647  35.070423 ]\n",
      " [  4.655389   16.608818 ]\n",
      " [  3.003394   18.45301  ]\n",
      " [  6.236049   35.702873 ]\n",
      " [  3.3165293  20.90224  ]\n",
      " [  2.3263743  16.782747 ]\n",
      " [  4.9097686  18.39106  ]\n",
      " [  3.8861055  52.131145 ]\n",
      " [  2.8963485  13.051899 ]\n",
      " [  4.167173   21.926598 ]\n",
      " [  7.554076   41.272728 ]\n",
      " [ 14.287602   26.524265 ]\n",
      " [  3.6793816  41.79812  ]\n",
      " [ 11.724484   49.265385 ]\n",
      " [ 24.097975  172.30052  ]]\n"
     ]
    }
   ],
   "execution_count": 76
  },
  {
   "metadata": {
    "ExecuteTime": {
     "end_time": "2025-02-13T07:44:07.571743Z",
     "start_time": "2025-02-13T07:44:07.553746Z"
    }
   },
   "cell_type": "code",
   "source": "masterArr = masterArr[~np.isnan(masterArr)]",
   "id": "ccaf1847af2e2be3",
   "outputs": [],
   "execution_count": 77
  },
  {
   "metadata": {
    "ExecuteTime": {
     "end_time": "2025-02-13T07:44:07.603747Z",
     "start_time": "2025-02-13T07:44:07.589744Z"
    }
   },
   "cell_type": "code",
   "source": [
    "masterArr = masterArr.reshape(-1,2)\n",
    "print(masterArr)"
   ],
   "id": "ad7d2078f2ac9bb9",
   "outputs": [
    {
     "name": "stdout",
     "output_type": "stream",
     "text": [
      "[[ 12.021332   34.480263 ]\n",
      " [  8.762445   15.972776 ]\n",
      " [  2.761189   35.712677 ]\n",
      " [  9.094602   22.4287   ]\n",
      " [  7.6587715  23.537313 ]\n",
      " [  5.653747   18.586584 ]\n",
      " [  6.406053   32.58465  ]\n",
      " [ 14.4870205  19.801523 ]\n",
      " [  5.7818036  16.927408 ]\n",
      " [ 29.837587   41.483868 ]\n",
      " [  7.227306   28.010735 ]\n",
      " [ 11.438632   33.441174 ]\n",
      " [ 17.464804   20.505508 ]\n",
      " [ 10.728567   31.83627  ]\n",
      " [ 19.199589   49.30361  ]\n",
      " [ 22.29818    21.884615 ]\n",
      " [  6.6648984  36.26392  ]\n",
      " [  1.6461585  27.90681  ]\n",
      " [  3.2810647  35.070423 ]\n",
      " [  4.655389   16.608818 ]\n",
      " [  3.003394   18.45301  ]\n",
      " [  6.236049   35.702873 ]\n",
      " [  3.3165293  20.90224  ]\n",
      " [  2.3263743  16.782747 ]\n",
      " [  4.9097686  18.39106  ]\n",
      " [  3.8861055  52.131145 ]\n",
      " [  2.8963485  13.051899 ]\n",
      " [  4.167173   21.926598 ]\n",
      " [  7.554076   41.272728 ]\n",
      " [ 14.287602   26.524265 ]\n",
      " [  3.6793816  41.79812  ]\n",
      " [ 11.724484   49.265385 ]\n",
      " [ 24.097975  172.30052  ]]\n"
     ]
    }
   ],
   "execution_count": 78
  },
  {
   "metadata": {
    "ExecuteTime": {
     "end_time": "2025-02-13T07:44:07.681742Z",
     "start_time": "2025-02-13T07:44:07.671745Z"
    }
   },
   "cell_type": "code",
   "source": "kmeans = KMeans(n_clusters=5).fit_predict(masterArr[:,:2])\n",
   "id": "b055e4b03258398e",
   "outputs": [],
   "execution_count": 79
  },
  {
   "metadata": {
    "ExecuteTime": {
     "end_time": "2025-02-13T07:44:07.805745Z",
     "start_time": "2025-02-13T07:44:07.714744Z"
    }
   },
   "cell_type": "code",
   "source": [
    "plt.scatter(masterArr[:,0], masterArr[:,1], c=kmeans)\n",
    "plt.xlabel('P/B')\n",
    "plt.ylabel('P/E')\n",
    "plt.show()"
   ],
   "id": "6566f613109359ca",
   "outputs": [
    {
     "data": {
      "text/plain": [
       "<Figure size 640x480 with 1 Axes>"
      ],
      "image/png": "[encoded data removed]"
     },
     "metadata": {},
     "output_type": "display_data"
    }
   ],
   "execution_count": 80
  },
  {
   "metadata": {
    "ExecuteTime": {
     "end_time": "2025-02-13T07:44:59.115073Z",
     "start_time": "2025-02-13T07:44:59.103075Z"
    }
   },
   "cell_type": "code",
   "source": "print(masterArr,names)",
   "id": "da88641fd86fa2fa",
   "outputs": [
    {
     "name": "stdout",
     "output_type": "stream",
     "text": [
      "[[ 12.021332   34.480263 ]\n",
      " [  8.762445   15.972776 ]\n",
      " [  2.761189   35.712677 ]\n",
      " [  9.094602   22.4287   ]\n",
      " [  7.6587715  23.537313 ]\n",
      " [  5.653747   18.586584 ]\n",
      " [  6.406053   32.58465  ]\n",
      " [ 14.4870205  19.801523 ]\n",
      " [  5.7818036  16.927408 ]\n",
      " [ 29.837587   41.483868 ]\n",
      " [  7.227306   28.010735 ]\n",
      " [ 11.438632   33.441174 ]\n",
      " [ 17.464804   20.505508 ]\n",
      " [ 10.728567   31.83627  ]\n",
      " [ 19.199589   49.30361  ]\n",
      " [ 22.29818    21.884615 ]\n",
      " [  6.6648984  36.26392  ]\n",
      " [  1.6461585  27.90681  ]\n",
      " [  3.2810647  35.070423 ]\n",
      " [  4.655389   16.608818 ]\n",
      " [  3.003394   18.45301  ]\n",
      " [  6.236049   35.702873 ]\n",
      " [  3.3165293  20.90224  ]\n",
      " [  2.3263743  16.782747 ]\n",
      " [  4.9097686  18.39106  ]\n",
      " [  3.8861055  52.131145 ]\n",
      " [  2.8963485  13.051899 ]\n",
      " [  4.167173   21.926598 ]\n",
      " [  7.554076   41.272728 ]\n",
      " [ 14.287602   26.524265 ]\n",
      " [  3.6793816  41.79812  ]\n",
      " [ 11.724484   49.265385 ]\n",
      " [ 24.097975  172.30052  ]] ['GE', 'CAT', 'RTX', 'UNP', 'HON', 'DE', 'ETN', 'LMT', 'UPS', 'RELX', 'PH', 'WM', 'MMM', 'TT', 'CTAS', 'ITW', 'TRI', 'CP', 'EMR', 'NOC', 'GD', 'RSG', 'CNI', 'FDX', 'CSX', 'CARR', 'PCAR', 'NSC', 'CPRT', 'GWW', 'JCI', 'HWM', 'AXON']\n"
     ]
    }
   ],
   "execution_count": 81
  },
  {
   "metadata": {},
   "cell_type": "code",
   "outputs": [],
   "execution_count": null,
   "source": "",
   "id": "1c8d28d927bbade8"
  }
 ],
 "metadata": {
  "kernelspec": {
   "display_name": "Python 3",
   "language": "python",
   "name": "python3"
  },
  "language_info": {
   "codemirror_mode": {
    "name": "ipython",
    "version": 2
   },
   "file_extension": ".py",
   "mimetype": "text/x-python",
   "name": "python",
   "nbconvert_exporter": "python",
   "pygments_lexer": "ipython2",
   "version": "2.7.6"
  }
 },
 "nbformat": 4,
 "nbformat_minor": 5
}
